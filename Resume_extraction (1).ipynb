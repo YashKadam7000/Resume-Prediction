{
 "cells": [
  {
   "cell_type": "code",
   "execution_count": 9,
   "id": "c90e8670-dcce-43df-b2d0-559cdc89637e",
   "metadata": {},
   "outputs": [
    {
     "name": "stdout",
     "output_type": "stream",
     "text": [
      "Requirement already satisfied: PyPDF2 in c:\\users\\dell\\anaconda3\\lib\\site-packages (3.0.1)\n",
      "Note: you may need to restart the kernel to use updated packages.\n"
     ]
    }
   ],
   "source": [
    "pip install PyPDF2\n"
   ]
  },
  {
   "cell_type": "code",
   "execution_count": 12,
   "id": "57345972-bfd6-4357-be53-dfb84a1b2a64",
   "metadata": {},
   "outputs": [
    {
     "name": "stdout",
     "output_type": "stream",
     "text": [
      "Resumes saved to C:\\Users\\Dell\\OneDrive\\Desktop\\Resume-files\\Resumes-Dataset.csv\n"
     ]
    }
   ],
   "source": [
    "import os\n",
    "import pandas as pd\n",
    "from docx import Document\n",
    "import win32com.client as win32\n",
    "\n",
    "# Function to extract text from .docx file\n",
    "def extract_text_from_docx(docx_path):\n",
    "    doc = Document(docx_path)\n",
    "    full_text = []\n",
    "    for para in doc.paragraphs:\n",
    "        full_text.append(para.text)\n",
    "    return '\\n'.join(full_text)\n",
    "\n",
    "# Function to extract text from .doc file using win32com\n",
    "def extract_text_from_doc(doc_path):\n",
    "    word = win32.Dispatch(\"Word.Application\")\n",
    "    word.Visible = False\n",
    "    doc = word.Documents.Open(doc_path)\n",
    "    text = doc.Content.Text\n",
    "    doc.Close()\n",
    "    word.Quit()\n",
    "    return text\n",
    "\n",
    "# Path where your resume files are stored\n",
    "resume_folder = r'C:\\Users\\Dell\\OneDrive\\Desktop\\Resume-files\\Resumes'\n",
    "\n",
    "# List to store extracted resume data\n",
    "resume_data = []\n",
    "\n",
    "# Iterate through all files in the folder and subfolders\n",
    "for subdir, dirs, files in os.walk(resume_folder):\n",
    "    for file in files:\n",
    "        file_path = os.path.join(subdir, file)\n",
    "        if file.endswith('.docx'):  # If it's a .docx file\n",
    "            resume_text = extract_text_from_docx(file_path)\n",
    "            resume_data.append([file, resume_text])\n",
    "        elif file.endswith('.doc'):  # If it's a .doc file\n",
    "            resume_text = extract_text_from_doc(file_path)\n",
    "            resume_data.append([file, resume_text])\n",
    "\n",
    "# Convert to DataFrame\n",
    "df = pd.DataFrame(resume_data, columns=['File Name', 'Resume Text'])\n",
    "\n",
    "# Save the DataFrame to a CSV file\n",
    "output_csv = r'C:\\Users\\Dell\\OneDrive\\Desktop\\Resume-files\\Resumes-Dataset.csv'\n",
    "df.to_csv(output_csv, index=False)\n",
    "\n",
    "print(f\"Resumes saved to {output_csv}\")\n"
   ]
  },
  {
   "cell_type": "code",
   "execution_count": 9,
   "id": "3be9b4d8-f9a9-417e-8d5d-015163048077",
   "metadata": {},
   "outputs": [],
   "source": [
    "\n",
    "df=pd.read_csv('resumes-mod.csv')"
   ]
  },
  {
   "cell_type": "code",
   "execution_count": 10,
   "id": "93cf7536-3658-413e-82d4-b220ae2e8a45",
   "metadata": {},
   "outputs": [
    {
     "data": {
      "text/html": [
       "<div>\n",
       "<style scoped>\n",
       "    .dataframe tbody tr th:only-of-type {\n",
       "        vertical-align: middle;\n",
       "    }\n",
       "\n",
       "    .dataframe tbody tr th {\n",
       "        vertical-align: top;\n",
       "    }\n",
       "\n",
       "    .dataframe thead th {\n",
       "        text-align: right;\n",
       "    }\n",
       "</style>\n",
       "<table border=\"1\" class=\"dataframe\">\n",
       "  <thead>\n",
       "    <tr style=\"text-align: right;\">\n",
       "      <th></th>\n",
       "      <th>File Name</th>\n",
       "      <th>Resume Text</th>\n",
       "    </tr>\n",
       "  </thead>\n",
       "  <tbody>\n",
       "    <tr>\n",
       "      <th>0</th>\n",
       "      <td>Peoplesoft Admin_AnubhavSingh.docx</td>\n",
       "      <td>Anubhav Kumar Singh\\t\\t\\n\\n  To work in a gl...</td>\n",
       "    </tr>\n",
       "    <tr>\n",
       "      <th>1</th>\n",
       "      <td>Peoplesoft Admin_G Ananda Rayudu.doc</td>\n",
       "      <td>\\r\\r\\r\\r\\r\\r\\t\\r\\rProfile Summary:\\t\\t\\t\\t\\t\\t...</td>\n",
       "    </tr>\n",
       "    <tr>\n",
       "      <th>2</th>\n",
       "      <td>Peoplesoft Admin_Gangareddy.doc</td>\n",
       "      <td>PeopleSoft Database Administrator\\r           ...</td>\n",
       "    </tr>\n",
       "    <tr>\n",
       "      <th>3</th>\n",
       "      <td>Peoplesoft Admin_Murali.docx</td>\n",
       "      <td>Murali\\n\\nExperience Summary \\n\\nI have 6 year...</td>\n",
       "    </tr>\n",
       "    <tr>\n",
       "      <th>4</th>\n",
       "      <td>Peoplesoft Admin_Priyanka Ramadoss.doc</td>\n",
       "      <td>Priyanka Ramadoss\\r61/46, MountPleasant, \\rCoo...</td>\n",
       "    </tr>\n",
       "    <tr>\n",
       "      <th>...</th>\n",
       "      <td>...</td>\n",
       "      <td>...</td>\n",
       "    </tr>\n",
       "    <tr>\n",
       "      <th>73</th>\n",
       "      <td>Sri Krishna S_Hexaware.doc</td>\n",
       "      <td>\\tWorkday Integration Consultant\\r\\rName      ...</td>\n",
       "    </tr>\n",
       "    <tr>\n",
       "      <th>74</th>\n",
       "      <td>Srikanth-Hexaware.docx</td>\n",
       "      <td>Seeking suitable positions in Workday HCM  as ...</td>\n",
       "    </tr>\n",
       "    <tr>\n",
       "      <th>75</th>\n",
       "      <td>SSKumar_Hexaware.docx</td>\n",
       "      <td>\\nWORKDAY | HCM | FCM\\nName \\t\\t: Kumar S.S\\nR...</td>\n",
       "    </tr>\n",
       "    <tr>\n",
       "      <th>76</th>\n",
       "      <td>Venkateswarlu B_Hexaware.doc</td>\n",
       "      <td>Venkateswarlu.B\\t\\t\\t\\t\\t\\t\\t\\tWorkday Consult...</td>\n",
       "    </tr>\n",
       "    <tr>\n",
       "      <th>77</th>\n",
       "      <td>Vinay Kumar_Hexaware.docx</td>\n",
       "      <td>...</td>\n",
       "    </tr>\n",
       "  </tbody>\n",
       "</table>\n",
       "<p>78 rows × 2 columns</p>\n",
       "</div>"
      ],
      "text/plain": [
       "                                 File Name  \\\n",
       "0       Peoplesoft Admin_AnubhavSingh.docx   \n",
       "1     Peoplesoft Admin_G Ananda Rayudu.doc   \n",
       "2          Peoplesoft Admin_Gangareddy.doc   \n",
       "3             Peoplesoft Admin_Murali.docx   \n",
       "4   Peoplesoft Admin_Priyanka Ramadoss.doc   \n",
       "..                                     ...   \n",
       "73              Sri Krishna S_Hexaware.doc   \n",
       "74                  Srikanth-Hexaware.docx   \n",
       "75                   SSKumar_Hexaware.docx   \n",
       "76            Venkateswarlu B_Hexaware.doc   \n",
       "77               Vinay Kumar_Hexaware.docx   \n",
       "\n",
       "                                          Resume Text  \n",
       "0     Anubhav Kumar Singh\\t\\t\\n\\n  To work in a gl...  \n",
       "1   \\r\\r\\r\\r\\r\\r\\t\\r\\rProfile Summary:\\t\\t\\t\\t\\t\\t...  \n",
       "2   PeopleSoft Database Administrator\\r           ...  \n",
       "3   Murali\\n\\nExperience Summary \\n\\nI have 6 year...  \n",
       "4   Priyanka Ramadoss\\r61/46, MountPleasant, \\rCoo...  \n",
       "..                                                ...  \n",
       "73  \\tWorkday Integration Consultant\\r\\rName      ...  \n",
       "74  Seeking suitable positions in Workday HCM  as ...  \n",
       "75  \\nWORKDAY | HCM | FCM\\nName \\t\\t: Kumar S.S\\nR...  \n",
       "76  Venkateswarlu.B\\t\\t\\t\\t\\t\\t\\t\\tWorkday Consult...  \n",
       "77                                                ...  \n",
       "\n",
       "[78 rows x 2 columns]"
      ]
     },
     "execution_count": 10,
     "metadata": {},
     "output_type": "execute_result"
    }
   ],
   "source": [
    "df"
   ]
  },
  {
   "cell_type": "code",
   "execution_count": 11,
   "id": "c5b5fcb5-02b7-4520-bac4-a22f411972fe",
   "metadata": {},
   "outputs": [
    {
     "data": {
      "text/plain": [
       "0"
      ]
     },
     "execution_count": 11,
     "metadata": {},
     "output_type": "execute_result"
    }
   ],
   "source": [
    "df.duplicated().sum()"
   ]
  }
 ],
 "metadata": {
  "kernelspec": {
   "display_name": "Python 3 (ipykernel)",
   "language": "python",
   "name": "python3"
  },
  "language_info": {
   "codemirror_mode": {
    "name": "ipython",
    "version": 3
   },
   "file_extension": ".py",
   "mimetype": "text/x-python",
   "name": "python",
   "nbconvert_exporter": "python",
   "pygments_lexer": "ipython3",
   "version": "3.11.7"
  }
 },
 "nbformat": 4,
 "nbformat_minor": 5
}
